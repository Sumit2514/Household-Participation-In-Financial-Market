{
 "cells": [
  {
   "cell_type": "markdown",
   "metadata": {},
   "source": [
    "# Import libraries necessary for this project"
   ]
  },
  {
   "cell_type": "code",
   "execution_count": 1,
   "metadata": {},
   "outputs": [],
   "source": [
    "import pandas as pd\n",
    "import numpy as np"
   ]
  },
  {
   "cell_type": "markdown",
   "metadata": {},
   "source": [
    "# Loading data"
   ]
  },
  {
   "cell_type": "code",
   "execution_count": 2,
   "metadata": {},
   "outputs": [],
   "source": [
    "data= pd.io.stata.read_stata(\"C:\\\\Users\\\\Sumit Ranjan\\\\Desktop\\\\pgdm\\\\semester 5\\\\NSSO_2002_full.dta\")"
   ]
  },
  {
   "cell_type": "markdown",
   "metadata": {},
   "source": [
    "# Introduction To The Data"
   ]
  },
  {
   "cell_type": "code",
   "execution_count": 3,
   "metadata": {},
   "outputs": [
    {
     "data": {
      "text/html": [
       "<div>\n",
       "<style scoped>\n",
       "    .dataframe tbody tr th:only-of-type {\n",
       "        vertical-align: middle;\n",
       "    }\n",
       "\n",
       "    .dataframe tbody tr th {\n",
       "        vertical-align: top;\n",
       "    }\n",
       "\n",
       "    .dataframe thead th {\n",
       "        text-align: right;\n",
       "    }\n",
       "</style>\n",
       "<table border=\"1\" class=\"dataframe\">\n",
       "  <thead>\n",
       "    <tr style=\"text-align: right;\">\n",
       "      <th></th>\n",
       "      <th>HHID</th>\n",
       "      <th>Sector</th>\n",
       "      <th>State_Region</th>\n",
       "      <th>State</th>\n",
       "      <th>District</th>\n",
       "      <th>hh_type</th>\n",
       "      <th>hh_size</th>\n",
       "      <th>age</th>\n",
       "      <th>edu</th>\n",
       "      <th>ind_child</th>\n",
       "      <th>...</th>\n",
       "      <th>liab4_interest</th>\n",
       "      <th>liab5_mortgage</th>\n",
       "      <th>liab5_gold</th>\n",
       "      <th>liab5_other</th>\n",
       "      <th>liab5_unsecured</th>\n",
       "      <th>liab6</th>\n",
       "      <th>NSS</th>\n",
       "      <th>NSC</th>\n",
       "      <th>MLT</th>\n",
       "      <th>Weight</th>\n",
       "    </tr>\n",
       "  </thead>\n",
       "  <tbody>\n",
       "    <tr>\n",
       "      <th>0</th>\n",
       "      <td>1100011101</td>\n",
       "      <td>2</td>\n",
       "      <td>331</td>\n",
       "      <td>33</td>\n",
       "      <td>06</td>\n",
       "      <td>21</td>\n",
       "      <td>4</td>\n",
       "      <td>32.0</td>\n",
       "      <td>04</td>\n",
       "      <td>1.0</td>\n",
       "      <td>...</td>\n",
       "      <td>0.0</td>\n",
       "      <td>0.0</td>\n",
       "      <td>0.0</td>\n",
       "      <td>0.0</td>\n",
       "      <td>0.0</td>\n",
       "      <td>NaN</td>\n",
       "      <td>18</td>\n",
       "      <td>36</td>\n",
       "      <td>2850.28</td>\n",
       "      <td>14.2514</td>\n",
       "    </tr>\n",
       "    <tr>\n",
       "      <th>1</th>\n",
       "      <td>1100011102</td>\n",
       "      <td>2</td>\n",
       "      <td>331</td>\n",
       "      <td>33</td>\n",
       "      <td>06</td>\n",
       "      <td>21</td>\n",
       "      <td>6</td>\n",
       "      <td>49.0</td>\n",
       "      <td>06</td>\n",
       "      <td>1.0</td>\n",
       "      <td>...</td>\n",
       "      <td>20000.0</td>\n",
       "      <td>0.0</td>\n",
       "      <td>0.0</td>\n",
       "      <td>0.0</td>\n",
       "      <td>20000.0</td>\n",
       "      <td>NaN</td>\n",
       "      <td>18</td>\n",
       "      <td>36</td>\n",
       "      <td>2850.28</td>\n",
       "      <td>14.2514</td>\n",
       "    </tr>\n",
       "    <tr>\n",
       "      <th>2</th>\n",
       "      <td>1100012101</td>\n",
       "      <td>2</td>\n",
       "      <td>331</td>\n",
       "      <td>33</td>\n",
       "      <td>06</td>\n",
       "      <td>22</td>\n",
       "      <td>5</td>\n",
       "      <td>42.0</td>\n",
       "      <td>05</td>\n",
       "      <td>1.0</td>\n",
       "      <td>...</td>\n",
       "      <td>10000.0</td>\n",
       "      <td>0.0</td>\n",
       "      <td>0.0</td>\n",
       "      <td>0.0</td>\n",
       "      <td>10000.0</td>\n",
       "      <td>NaN</td>\n",
       "      <td>18</td>\n",
       "      <td>36</td>\n",
       "      <td>2114.72</td>\n",
       "      <td>10.5736</td>\n",
       "    </tr>\n",
       "    <tr>\n",
       "      <th>3</th>\n",
       "      <td>1100012102</td>\n",
       "      <td>2</td>\n",
       "      <td>331</td>\n",
       "      <td>33</td>\n",
       "      <td>06</td>\n",
       "      <td>22</td>\n",
       "      <td>2</td>\n",
       "      <td>72.0</td>\n",
       "      <td>01</td>\n",
       "      <td>0.0</td>\n",
       "      <td>...</td>\n",
       "      <td>0.0</td>\n",
       "      <td>0.0</td>\n",
       "      <td>0.0</td>\n",
       "      <td>0.0</td>\n",
       "      <td>0.0</td>\n",
       "      <td>NaN</td>\n",
       "      <td>18</td>\n",
       "      <td>36</td>\n",
       "      <td>2114.72</td>\n",
       "      <td>10.5736</td>\n",
       "    </tr>\n",
       "    <tr>\n",
       "      <th>4</th>\n",
       "      <td>1100013101</td>\n",
       "      <td>2</td>\n",
       "      <td>331</td>\n",
       "      <td>33</td>\n",
       "      <td>06</td>\n",
       "      <td>22</td>\n",
       "      <td>3</td>\n",
       "      <td>27.0</td>\n",
       "      <td>05</td>\n",
       "      <td>1.0</td>\n",
       "      <td>...</td>\n",
       "      <td>3000.0</td>\n",
       "      <td>0.0</td>\n",
       "      <td>0.0</td>\n",
       "      <td>0.0</td>\n",
       "      <td>3000.0</td>\n",
       "      <td>NaN</td>\n",
       "      <td>18</td>\n",
       "      <td>36</td>\n",
       "      <td>2942.22</td>\n",
       "      <td>14.7111</td>\n",
       "    </tr>\n",
       "  </tbody>\n",
       "</table>\n",
       "<p>5 rows × 147 columns</p>\n",
       "</div>"
      ],
      "text/plain": [
       "         HHID Sector State_Region State District hh_type  hh_size   age edu  \\\n",
       "0  1100011101      2          331    33       06      21        4  32.0  04   \n",
       "1  1100011102      2          331    33       06      21        6  49.0  06   \n",
       "2  1100012101      2          331    33       06      22        5  42.0  05   \n",
       "3  1100012102      2          331    33       06      22        2  72.0  01   \n",
       "4  1100013101      2          331    33       06      22        3  27.0  05   \n",
       "\n",
       "   ind_child   ...     liab4_interest  liab5_mortgage  liab5_gold  \\\n",
       "0        1.0   ...                0.0             0.0         0.0   \n",
       "1        1.0   ...            20000.0             0.0         0.0   \n",
       "2        1.0   ...            10000.0             0.0         0.0   \n",
       "3        0.0   ...                0.0             0.0         0.0   \n",
       "4        1.0   ...             3000.0             0.0         0.0   \n",
       "\n",
       "   liab5_other  liab5_unsecured  liab6  NSS  NSC      MLT   Weight  \n",
       "0          0.0              0.0    NaN   18   36  2850.28  14.2514  \n",
       "1          0.0          20000.0    NaN   18   36  2850.28  14.2514  \n",
       "2          0.0          10000.0    NaN   18   36  2114.72  10.5736  \n",
       "3          0.0              0.0    NaN   18   36  2114.72  10.5736  \n",
       "4          0.0           3000.0    NaN   18   36  2942.22  14.7111  \n",
       "\n",
       "[5 rows x 147 columns]"
      ]
     },
     "execution_count": 3,
     "metadata": {},
     "output_type": "execute_result"
    }
   ],
   "source": [
    "data.head()"
   ]
  },
  {
   "cell_type": "markdown",
   "metadata": {},
   "source": [
    "# Data Cleaning"
   ]
  },
  {
   "cell_type": "code",
   "execution_count": 4,
   "metadata": {},
   "outputs": [],
   "source": [
    "data=data.replace(np.nan,0)"
   ]
  },
  {
   "cell_type": "code",
   "execution_count": 5,
   "metadata": {},
   "outputs": [],
   "source": [
    "data['gold_loan']=data['liab5_gold']"
   ]
  },
  {
   "cell_type": "code",
   "execution_count": 6,
   "metadata": {},
   "outputs": [
    {
     "data": {
      "text/html": [
       "<div>\n",
       "<style scoped>\n",
       "    .dataframe tbody tr th:only-of-type {\n",
       "        vertical-align: middle;\n",
       "    }\n",
       "\n",
       "    .dataframe tbody tr th {\n",
       "        vertical-align: top;\n",
       "    }\n",
       "\n",
       "    .dataframe thead th {\n",
       "        text-align: right;\n",
       "    }\n",
       "</style>\n",
       "<table border=\"1\" class=\"dataframe\">\n",
       "  <thead>\n",
       "    <tr style=\"text-align: right;\">\n",
       "      <th></th>\n",
       "      <th>HHID</th>\n",
       "      <th>Sector</th>\n",
       "      <th>State_Region</th>\n",
       "      <th>State</th>\n",
       "      <th>District</th>\n",
       "      <th>hh_type</th>\n",
       "      <th>hh_size</th>\n",
       "      <th>age</th>\n",
       "      <th>edu</th>\n",
       "      <th>ind_child</th>\n",
       "      <th>...</th>\n",
       "      <th>liab5_mortgage</th>\n",
       "      <th>liab5_gold</th>\n",
       "      <th>liab5_other</th>\n",
       "      <th>liab5_unsecured</th>\n",
       "      <th>liab6</th>\n",
       "      <th>NSS</th>\n",
       "      <th>NSC</th>\n",
       "      <th>MLT</th>\n",
       "      <th>Weight</th>\n",
       "      <th>gold_loan</th>\n",
       "    </tr>\n",
       "  </thead>\n",
       "  <tbody>\n",
       "    <tr>\n",
       "      <th>0</th>\n",
       "      <td>1100011101</td>\n",
       "      <td>2</td>\n",
       "      <td>331</td>\n",
       "      <td>33</td>\n",
       "      <td>06</td>\n",
       "      <td>21</td>\n",
       "      <td>4</td>\n",
       "      <td>32.0</td>\n",
       "      <td>04</td>\n",
       "      <td>1.0</td>\n",
       "      <td>...</td>\n",
       "      <td>0.0</td>\n",
       "      <td>0.0</td>\n",
       "      <td>0.0</td>\n",
       "      <td>0.0</td>\n",
       "      <td>0.0</td>\n",
       "      <td>18</td>\n",
       "      <td>36</td>\n",
       "      <td>2850.28</td>\n",
       "      <td>14.2514</td>\n",
       "      <td>0.0</td>\n",
       "    </tr>\n",
       "    <tr>\n",
       "      <th>1</th>\n",
       "      <td>1100011102</td>\n",
       "      <td>2</td>\n",
       "      <td>331</td>\n",
       "      <td>33</td>\n",
       "      <td>06</td>\n",
       "      <td>21</td>\n",
       "      <td>6</td>\n",
       "      <td>49.0</td>\n",
       "      <td>06</td>\n",
       "      <td>1.0</td>\n",
       "      <td>...</td>\n",
       "      <td>0.0</td>\n",
       "      <td>0.0</td>\n",
       "      <td>0.0</td>\n",
       "      <td>20000.0</td>\n",
       "      <td>0.0</td>\n",
       "      <td>18</td>\n",
       "      <td>36</td>\n",
       "      <td>2850.28</td>\n",
       "      <td>14.2514</td>\n",
       "      <td>0.0</td>\n",
       "    </tr>\n",
       "    <tr>\n",
       "      <th>2</th>\n",
       "      <td>1100012101</td>\n",
       "      <td>2</td>\n",
       "      <td>331</td>\n",
       "      <td>33</td>\n",
       "      <td>06</td>\n",
       "      <td>22</td>\n",
       "      <td>5</td>\n",
       "      <td>42.0</td>\n",
       "      <td>05</td>\n",
       "      <td>1.0</td>\n",
       "      <td>...</td>\n",
       "      <td>0.0</td>\n",
       "      <td>0.0</td>\n",
       "      <td>0.0</td>\n",
       "      <td>10000.0</td>\n",
       "      <td>0.0</td>\n",
       "      <td>18</td>\n",
       "      <td>36</td>\n",
       "      <td>2114.72</td>\n",
       "      <td>10.5736</td>\n",
       "      <td>0.0</td>\n",
       "    </tr>\n",
       "    <tr>\n",
       "      <th>3</th>\n",
       "      <td>1100012102</td>\n",
       "      <td>2</td>\n",
       "      <td>331</td>\n",
       "      <td>33</td>\n",
       "      <td>06</td>\n",
       "      <td>22</td>\n",
       "      <td>2</td>\n",
       "      <td>72.0</td>\n",
       "      <td>01</td>\n",
       "      <td>0.0</td>\n",
       "      <td>...</td>\n",
       "      <td>0.0</td>\n",
       "      <td>0.0</td>\n",
       "      <td>0.0</td>\n",
       "      <td>0.0</td>\n",
       "      <td>0.0</td>\n",
       "      <td>18</td>\n",
       "      <td>36</td>\n",
       "      <td>2114.72</td>\n",
       "      <td>10.5736</td>\n",
       "      <td>0.0</td>\n",
       "    </tr>\n",
       "    <tr>\n",
       "      <th>4</th>\n",
       "      <td>1100013101</td>\n",
       "      <td>2</td>\n",
       "      <td>331</td>\n",
       "      <td>33</td>\n",
       "      <td>06</td>\n",
       "      <td>22</td>\n",
       "      <td>3</td>\n",
       "      <td>27.0</td>\n",
       "      <td>05</td>\n",
       "      <td>1.0</td>\n",
       "      <td>...</td>\n",
       "      <td>0.0</td>\n",
       "      <td>0.0</td>\n",
       "      <td>0.0</td>\n",
       "      <td>3000.0</td>\n",
       "      <td>0.0</td>\n",
       "      <td>18</td>\n",
       "      <td>36</td>\n",
       "      <td>2942.22</td>\n",
       "      <td>14.7111</td>\n",
       "      <td>0.0</td>\n",
       "    </tr>\n",
       "  </tbody>\n",
       "</table>\n",
       "<p>5 rows × 148 columns</p>\n",
       "</div>"
      ],
      "text/plain": [
       "         HHID Sector State_Region State District hh_type  hh_size   age edu  \\\n",
       "0  1100011101      2          331    33       06      21        4  32.0  04   \n",
       "1  1100011102      2          331    33       06      21        6  49.0  06   \n",
       "2  1100012101      2          331    33       06      22        5  42.0  05   \n",
       "3  1100012102      2          331    33       06      22        2  72.0  01   \n",
       "4  1100013101      2          331    33       06      22        3  27.0  05   \n",
       "\n",
       "   ind_child    ...      liab5_mortgage  liab5_gold  liab5_other  \\\n",
       "0        1.0    ...                 0.0         0.0          0.0   \n",
       "1        1.0    ...                 0.0         0.0          0.0   \n",
       "2        1.0    ...                 0.0         0.0          0.0   \n",
       "3        0.0    ...                 0.0         0.0          0.0   \n",
       "4        1.0    ...                 0.0         0.0          0.0   \n",
       "\n",
       "   liab5_unsecured  liab6  NSS  NSC      MLT   Weight  gold_loan  \n",
       "0              0.0    0.0   18   36  2850.28  14.2514        0.0  \n",
       "1          20000.0    0.0   18   36  2850.28  14.2514        0.0  \n",
       "2          10000.0    0.0   18   36  2114.72  10.5736        0.0  \n",
       "3              0.0    0.0   18   36  2114.72  10.5736        0.0  \n",
       "4           3000.0    0.0   18   36  2942.22  14.7111        0.0  \n",
       "\n",
       "[5 rows x 148 columns]"
      ]
     },
     "execution_count": 6,
     "metadata": {},
     "output_type": "execute_result"
    }
   ],
   "source": [
    "data.head()"
   ]
  },
  {
   "cell_type": "code",
   "execution_count": 7,
   "metadata": {},
   "outputs": [],
   "source": [
    "data['mortgage_debt']=data['liab5_mortgage']"
   ]
  },
  {
   "cell_type": "code",
   "execution_count": 8,
   "metadata": {},
   "outputs": [],
   "source": [
    "data['unsecured_loan']=data['liab5_unsecured']+data['liab2_unsecured']"
   ]
  },
  {
   "cell_type": "code",
   "execution_count": 9,
   "metadata": {},
   "outputs": [],
   "source": [
    "data['secured_loan']=data['liab2_secured']+data['liab2_sec_rec']"
   ]
  },
  {
   "cell_type": "code",
   "execution_count": 10,
   "metadata": {},
   "outputs": [],
   "source": [
    "data['other_debt']=data['liab3_short']+data['liab3_medium']+data['liab3_long']+data['liab4_no_interest']+data['liab4_interest']+data['liab5_other']+data['liab6']+data['liab_govt']+data['liab_bank']+data['liab_nonbank']+data['liab_ins']+data['liab_profml']+data['liab_agriml']+data['liab_network']+data['ram_liab11']+data['ram_liab12']+data['ram_liab13']+data['ram_liab14']+data['ram_liab21']+data['ram_liab22']+data['ram_liab23']+data['ram_liab24']+data['ram_liab31']+data['ram_liab32']+data['ram_liab33']+data['ram_liab34']+data['ram_liab41']+data['ram_liab42']+data['ram_liab43']+data['ram_liab44']+data['ram_liab51']+data['ram_liab52']+data['ram_liab53']+data['ram_liab54']+data['ram_liab61']+data['ram_liab62']+data['ram_liab63']+data['ram_liab64']+data['ram_liab71']+data['ram_liab72']+data['ram_liab73']+data['ram_liab74']"
   ]
  },
  {
   "cell_type": "code",
   "execution_count": 11,
   "metadata": {},
   "outputs": [],
   "source": [
    "data['financial_asset']=data['fin6']+data['fin1']+data['fin2']+data['fin3']+data['fin4']+data['fin5']+data['term11']+data['term12']+data['term13']+data['term21']+data['term22']+data['term23']+data['term31']+data['term32']+data['term33']+data['term41']+data['term42']+data['term43']+data['term51']+data['term52']+data['term53']+data['term61']+data['term62']+data['term63']+data['term71']+data['term72']+data['term73']+data['security11']+data['security12']+data['security13']+data['security21']+data['security22']+data['security23']+data['security31']+data['security32']+data['security33']+data['security41']+data['security42']+data['security43']+data['security51']+data['security52']+data['security53']+data['security61']+data['security62']+data['security63']+data['security71']+data['security72']+data['security73']"
   ]
  },
  {
   "cell_type": "code",
   "execution_count": 12,
   "metadata": {},
   "outputs": [],
   "source": [
    "data['durable_asset']=data['agri_equip']+data['non_agri']+data['trans_tot']+data['livestock']"
   ]
  },
  {
   "cell_type": "code",
   "execution_count": 13,
   "metadata": {},
   "outputs": [],
   "source": [
    "data['gold']=data['bullion']"
   ]
  },
  {
   "cell_type": "code",
   "execution_count": 14,
   "metadata": {},
   "outputs": [],
   "source": [
    "data['real_estate']=data['total_l']+data['total_b']"
   ]
  },
  {
   "cell_type": "code",
   "execution_count": 15,
   "metadata": {},
   "outputs": [],
   "source": [
    "data['total_asset']=data['financial_asset']+data['durable_asset']+data['gold']+data['real_estate']"
   ]
  },
  {
   "cell_type": "code",
   "execution_count": 16,
   "metadata": {},
   "outputs": [],
   "source": [
    "data['durable_asset_total_wealth']=data['durable_asset']/data['total_asset']"
   ]
  },
  {
   "cell_type": "code",
   "execution_count": 17,
   "metadata": {},
   "outputs": [],
   "source": [
    "data['financial_asset_total_wealth']=data['financial_asset']/data['total_asset']"
   ]
  },
  {
   "cell_type": "code",
   "execution_count": 18,
   "metadata": {},
   "outputs": [],
   "source": [
    "data['real_estate_total_wealth']=data['real_estate']/data['total_asset']"
   ]
  },
  {
   "cell_type": "code",
   "execution_count": 19,
   "metadata": {},
   "outputs": [],
   "source": [
    "data['gold_total_wealth']=data['gold']/data['total_asset']"
   ]
  },
  {
   "cell_type": "code",
   "execution_count": 20,
   "metadata": {},
   "outputs": [],
   "source": [
    "data['total_liability']=data['gold_loan']+data['mortgage_debt']+data['unsecured_loan']+data['secured_loan']+data['other_debt']"
   ]
  },
  {
   "cell_type": "code",
   "execution_count": 21,
   "metadata": {},
   "outputs": [],
   "source": [
    "bins = [10,20,30,40,50,60,70,80,90,100]\n",
    "data['AGE'] = pd.cut(data['age'], bins)\n"
   ]
  },
  {
   "cell_type": "code",
   "execution_count": 22,
   "metadata": {},
   "outputs": [
    {
     "data": {
      "text/html": [
       "<div>\n",
       "<style scoped>\n",
       "    .dataframe tbody tr th:only-of-type {\n",
       "        vertical-align: middle;\n",
       "    }\n",
       "\n",
       "    .dataframe tbody tr th {\n",
       "        vertical-align: top;\n",
       "    }\n",
       "\n",
       "    .dataframe thead th {\n",
       "        text-align: right;\n",
       "    }\n",
       "</style>\n",
       "<table border=\"1\" class=\"dataframe\">\n",
       "  <thead>\n",
       "    <tr style=\"text-align: right;\">\n",
       "      <th></th>\n",
       "      <th>HHID</th>\n",
       "      <th>Sector</th>\n",
       "      <th>State_Region</th>\n",
       "      <th>State</th>\n",
       "      <th>District</th>\n",
       "      <th>hh_type</th>\n",
       "      <th>hh_size</th>\n",
       "      <th>age</th>\n",
       "      <th>edu</th>\n",
       "      <th>ind_child</th>\n",
       "      <th>...</th>\n",
       "      <th>durable_asset</th>\n",
       "      <th>gold</th>\n",
       "      <th>real_estate</th>\n",
       "      <th>total_asset</th>\n",
       "      <th>durable_asset_total_wealth</th>\n",
       "      <th>financial_asset_total_wealth</th>\n",
       "      <th>real_estate_total_wealth</th>\n",
       "      <th>gold_total_wealth</th>\n",
       "      <th>total_liability</th>\n",
       "      <th>AGE</th>\n",
       "    </tr>\n",
       "  </thead>\n",
       "  <tbody>\n",
       "    <tr>\n",
       "      <th>0</th>\n",
       "      <td>1100011101</td>\n",
       "      <td>2</td>\n",
       "      <td>331</td>\n",
       "      <td>33</td>\n",
       "      <td>06</td>\n",
       "      <td>21</td>\n",
       "      <td>4</td>\n",
       "      <td>32.0</td>\n",
       "      <td>04</td>\n",
       "      <td>1.0</td>\n",
       "      <td>...</td>\n",
       "      <td>1250.0</td>\n",
       "      <td>4300.0</td>\n",
       "      <td>185000.0</td>\n",
       "      <td>190550.0</td>\n",
       "      <td>0.006560</td>\n",
       "      <td>0.000000</td>\n",
       "      <td>0.970874</td>\n",
       "      <td>0.022566</td>\n",
       "      <td>0.0</td>\n",
       "      <td>(30, 40]</td>\n",
       "    </tr>\n",
       "    <tr>\n",
       "      <th>1</th>\n",
       "      <td>1100011102</td>\n",
       "      <td>2</td>\n",
       "      <td>331</td>\n",
       "      <td>33</td>\n",
       "      <td>06</td>\n",
       "      <td>21</td>\n",
       "      <td>6</td>\n",
       "      <td>49.0</td>\n",
       "      <td>06</td>\n",
       "      <td>1.0</td>\n",
       "      <td>...</td>\n",
       "      <td>2400.0</td>\n",
       "      <td>9700.0</td>\n",
       "      <td>130000.0</td>\n",
       "      <td>185700.0</td>\n",
       "      <td>0.012924</td>\n",
       "      <td>0.234787</td>\n",
       "      <td>0.700054</td>\n",
       "      <td>0.052235</td>\n",
       "      <td>120000.0</td>\n",
       "      <td>(40, 50]</td>\n",
       "    </tr>\n",
       "    <tr>\n",
       "      <th>2</th>\n",
       "      <td>1100012101</td>\n",
       "      <td>2</td>\n",
       "      <td>331</td>\n",
       "      <td>33</td>\n",
       "      <td>06</td>\n",
       "      <td>22</td>\n",
       "      <td>5</td>\n",
       "      <td>42.0</td>\n",
       "      <td>05</td>\n",
       "      <td>1.0</td>\n",
       "      <td>...</td>\n",
       "      <td>950.0</td>\n",
       "      <td>4200.0</td>\n",
       "      <td>0.0</td>\n",
       "      <td>25150.0</td>\n",
       "      <td>0.037773</td>\n",
       "      <td>0.795229</td>\n",
       "      <td>0.000000</td>\n",
       "      <td>0.166998</td>\n",
       "      <td>60000.0</td>\n",
       "      <td>(40, 50]</td>\n",
       "    </tr>\n",
       "    <tr>\n",
       "      <th>3</th>\n",
       "      <td>1100012102</td>\n",
       "      <td>2</td>\n",
       "      <td>331</td>\n",
       "      <td>33</td>\n",
       "      <td>06</td>\n",
       "      <td>22</td>\n",
       "      <td>2</td>\n",
       "      <td>72.0</td>\n",
       "      <td>01</td>\n",
       "      <td>0.0</td>\n",
       "      <td>...</td>\n",
       "      <td>0.0</td>\n",
       "      <td>4200.0</td>\n",
       "      <td>100000.0</td>\n",
       "      <td>104200.0</td>\n",
       "      <td>0.000000</td>\n",
       "      <td>0.000000</td>\n",
       "      <td>0.959693</td>\n",
       "      <td>0.040307</td>\n",
       "      <td>0.0</td>\n",
       "      <td>(70, 80]</td>\n",
       "    </tr>\n",
       "    <tr>\n",
       "      <th>4</th>\n",
       "      <td>1100013101</td>\n",
       "      <td>2</td>\n",
       "      <td>331</td>\n",
       "      <td>33</td>\n",
       "      <td>06</td>\n",
       "      <td>22</td>\n",
       "      <td>3</td>\n",
       "      <td>27.0</td>\n",
       "      <td>05</td>\n",
       "      <td>1.0</td>\n",
       "      <td>...</td>\n",
       "      <td>3500.0</td>\n",
       "      <td>2000.0</td>\n",
       "      <td>92000.0</td>\n",
       "      <td>104247.0</td>\n",
       "      <td>0.033574</td>\n",
       "      <td>0.064721</td>\n",
       "      <td>0.882519</td>\n",
       "      <td>0.019185</td>\n",
       "      <td>18000.0</td>\n",
       "      <td>(20, 30]</td>\n",
       "    </tr>\n",
       "  </tbody>\n",
       "</table>\n",
       "<p>5 rows × 163 columns</p>\n",
       "</div>"
      ],
      "text/plain": [
       "         HHID Sector State_Region State District hh_type  hh_size   age edu  \\\n",
       "0  1100011101      2          331    33       06      21        4  32.0  04   \n",
       "1  1100011102      2          331    33       06      21        6  49.0  06   \n",
       "2  1100012101      2          331    33       06      22        5  42.0  05   \n",
       "3  1100012102      2          331    33       06      22        2  72.0  01   \n",
       "4  1100013101      2          331    33       06      22        3  27.0  05   \n",
       "\n",
       "   ind_child    ...     durable_asset    gold  real_estate  total_asset  \\\n",
       "0        1.0    ...            1250.0  4300.0     185000.0     190550.0   \n",
       "1        1.0    ...            2400.0  9700.0     130000.0     185700.0   \n",
       "2        1.0    ...             950.0  4200.0          0.0      25150.0   \n",
       "3        0.0    ...               0.0  4200.0     100000.0     104200.0   \n",
       "4        1.0    ...            3500.0  2000.0      92000.0     104247.0   \n",
       "\n",
       "   durable_asset_total_wealth  financial_asset_total_wealth  \\\n",
       "0                    0.006560                      0.000000   \n",
       "1                    0.012924                      0.234787   \n",
       "2                    0.037773                      0.795229   \n",
       "3                    0.000000                      0.000000   \n",
       "4                    0.033574                      0.064721   \n",
       "\n",
       "   real_estate_total_wealth  gold_total_wealth  total_liability       AGE  \n",
       "0                  0.970874           0.022566              0.0  (30, 40]  \n",
       "1                  0.700054           0.052235         120000.0  (40, 50]  \n",
       "2                  0.000000           0.166998          60000.0  (40, 50]  \n",
       "3                  0.959693           0.040307              0.0  (70, 80]  \n",
       "4                  0.882519           0.019185          18000.0  (20, 30]  \n",
       "\n",
       "[5 rows x 163 columns]"
      ]
     },
     "execution_count": 22,
     "metadata": {},
     "output_type": "execute_result"
    }
   ],
   "source": [
    "data.head()"
   ]
  },
  {
   "cell_type": "code",
   "execution_count": 23,
   "metadata": {},
   "outputs": [
    {
     "data": {
      "text/plain": [
       "gold_total_wealth               2671\n",
       "real_estate_total_wealth        2671\n",
       "financial_asset_total_wealth    2671\n",
       "durable_asset_total_wealth      2671\n",
       "AGE                              108\n",
       "dtype: int64"
      ]
     },
     "execution_count": 23,
     "metadata": {},
     "output_type": "execute_result"
    }
   ],
   "source": [
    "data.isnull().sum().sort_values(ascending=False).head()"
   ]
  },
  {
   "cell_type": "code",
   "execution_count": 24,
   "metadata": {},
   "outputs": [],
   "source": [
    "cols=data.columns\n"
   ]
  },
  {
   "cell_type": "code",
   "execution_count": 25,
   "metadata": {},
   "outputs": [
    {
     "data": {
      "text/plain": [
       "0"
      ]
     },
     "execution_count": 25,
     "metadata": {},
     "output_type": "execute_result"
    }
   ],
   "source": [
    "data['age'].isnull().sum()"
   ]
  },
  {
   "cell_type": "code",
   "execution_count": 26,
   "metadata": {},
   "outputs": [
    {
     "data": {
      "text/html": [
       "<div>\n",
       "<style scoped>\n",
       "    .dataframe tbody tr th:only-of-type {\n",
       "        vertical-align: middle;\n",
       "    }\n",
       "\n",
       "    .dataframe tbody tr th {\n",
       "        vertical-align: top;\n",
       "    }\n",
       "\n",
       "    .dataframe thead th {\n",
       "        text-align: right;\n",
       "    }\n",
       "</style>\n",
       "<table border=\"1\" class=\"dataframe\">\n",
       "  <thead>\n",
       "    <tr style=\"text-align: right;\">\n",
       "      <th></th>\n",
       "      <th>HHID</th>\n",
       "      <th>Sector</th>\n",
       "      <th>State_Region</th>\n",
       "      <th>State</th>\n",
       "      <th>District</th>\n",
       "      <th>hh_type</th>\n",
       "      <th>hh_size</th>\n",
       "      <th>age</th>\n",
       "      <th>edu</th>\n",
       "      <th>ind_child</th>\n",
       "      <th>...</th>\n",
       "      <th>durable_asset</th>\n",
       "      <th>gold</th>\n",
       "      <th>real_estate</th>\n",
       "      <th>total_asset</th>\n",
       "      <th>durable_asset_total_wealth</th>\n",
       "      <th>financial_asset_total_wealth</th>\n",
       "      <th>real_estate_total_wealth</th>\n",
       "      <th>gold_total_wealth</th>\n",
       "      <th>total_liability</th>\n",
       "      <th>AGE</th>\n",
       "    </tr>\n",
       "  </thead>\n",
       "  <tbody>\n",
       "    <tr>\n",
       "      <th>0</th>\n",
       "      <td>1100011101</td>\n",
       "      <td>2</td>\n",
       "      <td>331</td>\n",
       "      <td>33</td>\n",
       "      <td>06</td>\n",
       "      <td>21</td>\n",
       "      <td>4</td>\n",
       "      <td>32.0</td>\n",
       "      <td>04</td>\n",
       "      <td>1.0</td>\n",
       "      <td>...</td>\n",
       "      <td>1250.0</td>\n",
       "      <td>4300.0</td>\n",
       "      <td>185000.0</td>\n",
       "      <td>190550.0</td>\n",
       "      <td>0.006560</td>\n",
       "      <td>0.000000</td>\n",
       "      <td>0.970874</td>\n",
       "      <td>0.022566</td>\n",
       "      <td>0.0</td>\n",
       "      <td>(30, 40]</td>\n",
       "    </tr>\n",
       "    <tr>\n",
       "      <th>1</th>\n",
       "      <td>1100011102</td>\n",
       "      <td>2</td>\n",
       "      <td>331</td>\n",
       "      <td>33</td>\n",
       "      <td>06</td>\n",
       "      <td>21</td>\n",
       "      <td>6</td>\n",
       "      <td>49.0</td>\n",
       "      <td>06</td>\n",
       "      <td>1.0</td>\n",
       "      <td>...</td>\n",
       "      <td>2400.0</td>\n",
       "      <td>9700.0</td>\n",
       "      <td>130000.0</td>\n",
       "      <td>185700.0</td>\n",
       "      <td>0.012924</td>\n",
       "      <td>0.234787</td>\n",
       "      <td>0.700054</td>\n",
       "      <td>0.052235</td>\n",
       "      <td>120000.0</td>\n",
       "      <td>(40, 50]</td>\n",
       "    </tr>\n",
       "    <tr>\n",
       "      <th>2</th>\n",
       "      <td>1100012101</td>\n",
       "      <td>2</td>\n",
       "      <td>331</td>\n",
       "      <td>33</td>\n",
       "      <td>06</td>\n",
       "      <td>22</td>\n",
       "      <td>5</td>\n",
       "      <td>42.0</td>\n",
       "      <td>05</td>\n",
       "      <td>1.0</td>\n",
       "      <td>...</td>\n",
       "      <td>950.0</td>\n",
       "      <td>4200.0</td>\n",
       "      <td>0.0</td>\n",
       "      <td>25150.0</td>\n",
       "      <td>0.037773</td>\n",
       "      <td>0.795229</td>\n",
       "      <td>0.000000</td>\n",
       "      <td>0.166998</td>\n",
       "      <td>60000.0</td>\n",
       "      <td>(40, 50]</td>\n",
       "    </tr>\n",
       "    <tr>\n",
       "      <th>3</th>\n",
       "      <td>1100012102</td>\n",
       "      <td>2</td>\n",
       "      <td>331</td>\n",
       "      <td>33</td>\n",
       "      <td>06</td>\n",
       "      <td>22</td>\n",
       "      <td>2</td>\n",
       "      <td>72.0</td>\n",
       "      <td>01</td>\n",
       "      <td>0.0</td>\n",
       "      <td>...</td>\n",
       "      <td>0.0</td>\n",
       "      <td>4200.0</td>\n",
       "      <td>100000.0</td>\n",
       "      <td>104200.0</td>\n",
       "      <td>0.000000</td>\n",
       "      <td>0.000000</td>\n",
       "      <td>0.959693</td>\n",
       "      <td>0.040307</td>\n",
       "      <td>0.0</td>\n",
       "      <td>(70, 80]</td>\n",
       "    </tr>\n",
       "    <tr>\n",
       "      <th>4</th>\n",
       "      <td>1100013101</td>\n",
       "      <td>2</td>\n",
       "      <td>331</td>\n",
       "      <td>33</td>\n",
       "      <td>06</td>\n",
       "      <td>22</td>\n",
       "      <td>3</td>\n",
       "      <td>27.0</td>\n",
       "      <td>05</td>\n",
       "      <td>1.0</td>\n",
       "      <td>...</td>\n",
       "      <td>3500.0</td>\n",
       "      <td>2000.0</td>\n",
       "      <td>92000.0</td>\n",
       "      <td>104247.0</td>\n",
       "      <td>0.033574</td>\n",
       "      <td>0.064721</td>\n",
       "      <td>0.882519</td>\n",
       "      <td>0.019185</td>\n",
       "      <td>18000.0</td>\n",
       "      <td>(20, 30]</td>\n",
       "    </tr>\n",
       "  </tbody>\n",
       "</table>\n",
       "<p>5 rows × 163 columns</p>\n",
       "</div>"
      ],
      "text/plain": [
       "         HHID Sector State_Region State District hh_type  hh_size   age edu  \\\n",
       "0  1100011101      2          331    33       06      21        4  32.0  04   \n",
       "1  1100011102      2          331    33       06      21        6  49.0  06   \n",
       "2  1100012101      2          331    33       06      22        5  42.0  05   \n",
       "3  1100012102      2          331    33       06      22        2  72.0  01   \n",
       "4  1100013101      2          331    33       06      22        3  27.0  05   \n",
       "\n",
       "   ind_child    ...     durable_asset    gold  real_estate  total_asset  \\\n",
       "0        1.0    ...            1250.0  4300.0     185000.0     190550.0   \n",
       "1        1.0    ...            2400.0  9700.0     130000.0     185700.0   \n",
       "2        1.0    ...             950.0  4200.0          0.0      25150.0   \n",
       "3        0.0    ...               0.0  4200.0     100000.0     104200.0   \n",
       "4        1.0    ...            3500.0  2000.0      92000.0     104247.0   \n",
       "\n",
       "   durable_asset_total_wealth  financial_asset_total_wealth  \\\n",
       "0                    0.006560                      0.000000   \n",
       "1                    0.012924                      0.234787   \n",
       "2                    0.037773                      0.795229   \n",
       "3                    0.000000                      0.000000   \n",
       "4                    0.033574                      0.064721   \n",
       "\n",
       "   real_estate_total_wealth  gold_total_wealth  total_liability       AGE  \n",
       "0                  0.970874           0.022566              0.0  (30, 40]  \n",
       "1                  0.700054           0.052235         120000.0  (40, 50]  \n",
       "2                  0.000000           0.166998          60000.0  (40, 50]  \n",
       "3                  0.959693           0.040307              0.0  (70, 80]  \n",
       "4                  0.882519           0.019185          18000.0  (20, 30]  \n",
       "\n",
       "[5 rows x 163 columns]"
      ]
     },
     "execution_count": 26,
     "metadata": {},
     "output_type": "execute_result"
    }
   ],
   "source": [
    "data.head()"
   ]
  },
  {
   "cell_type": "code",
   "execution_count": 27,
   "metadata": {},
   "outputs": [],
   "source": [
    "new_data = data.query('age>24').reset_index()"
   ]
  },
  {
   "cell_type": "code",
   "execution_count": 28,
   "metadata": {},
   "outputs": [
    {
     "data": {
      "text/plain": [
       "(138230, 164)"
      ]
     },
     "execution_count": 28,
     "metadata": {},
     "output_type": "execute_result"
    }
   ],
   "source": [
    "new_data.shape"
   ]
  },
  {
   "cell_type": "code",
   "execution_count": 29,
   "metadata": {},
   "outputs": [
    {
     "data": {
      "text/html": [
       "<div>\n",
       "<style scoped>\n",
       "    .dataframe tbody tr th:only-of-type {\n",
       "        vertical-align: middle;\n",
       "    }\n",
       "\n",
       "    .dataframe tbody tr th {\n",
       "        vertical-align: top;\n",
       "    }\n",
       "\n",
       "    .dataframe thead th {\n",
       "        text-align: right;\n",
       "    }\n",
       "</style>\n",
       "<table border=\"1\" class=\"dataframe\">\n",
       "  <thead>\n",
       "    <tr style=\"text-align: right;\">\n",
       "      <th></th>\n",
       "      <th>index</th>\n",
       "      <th>HHID</th>\n",
       "      <th>Sector</th>\n",
       "      <th>State_Region</th>\n",
       "      <th>State</th>\n",
       "      <th>District</th>\n",
       "      <th>hh_type</th>\n",
       "      <th>hh_size</th>\n",
       "      <th>age</th>\n",
       "      <th>edu</th>\n",
       "      <th>...</th>\n",
       "      <th>durable_asset</th>\n",
       "      <th>gold</th>\n",
       "      <th>real_estate</th>\n",
       "      <th>total_asset</th>\n",
       "      <th>durable_asset_total_wealth</th>\n",
       "      <th>financial_asset_total_wealth</th>\n",
       "      <th>real_estate_total_wealth</th>\n",
       "      <th>gold_total_wealth</th>\n",
       "      <th>total_liability</th>\n",
       "      <th>AGE</th>\n",
       "    </tr>\n",
       "  </thead>\n",
       "  <tbody>\n",
       "    <tr>\n",
       "      <th>0</th>\n",
       "      <td>0</td>\n",
       "      <td>1100011101</td>\n",
       "      <td>2</td>\n",
       "      <td>331</td>\n",
       "      <td>33</td>\n",
       "      <td>06</td>\n",
       "      <td>21</td>\n",
       "      <td>4</td>\n",
       "      <td>32.0</td>\n",
       "      <td>04</td>\n",
       "      <td>...</td>\n",
       "      <td>1250.0</td>\n",
       "      <td>4300.0</td>\n",
       "      <td>185000.0</td>\n",
       "      <td>190550.0</td>\n",
       "      <td>0.006560</td>\n",
       "      <td>0.000000</td>\n",
       "      <td>0.970874</td>\n",
       "      <td>0.022566</td>\n",
       "      <td>0.0</td>\n",
       "      <td>(30, 40]</td>\n",
       "    </tr>\n",
       "    <tr>\n",
       "      <th>1</th>\n",
       "      <td>1</td>\n",
       "      <td>1100011102</td>\n",
       "      <td>2</td>\n",
       "      <td>331</td>\n",
       "      <td>33</td>\n",
       "      <td>06</td>\n",
       "      <td>21</td>\n",
       "      <td>6</td>\n",
       "      <td>49.0</td>\n",
       "      <td>06</td>\n",
       "      <td>...</td>\n",
       "      <td>2400.0</td>\n",
       "      <td>9700.0</td>\n",
       "      <td>130000.0</td>\n",
       "      <td>185700.0</td>\n",
       "      <td>0.012924</td>\n",
       "      <td>0.234787</td>\n",
       "      <td>0.700054</td>\n",
       "      <td>0.052235</td>\n",
       "      <td>120000.0</td>\n",
       "      <td>(40, 50]</td>\n",
       "    </tr>\n",
       "    <tr>\n",
       "      <th>2</th>\n",
       "      <td>2</td>\n",
       "      <td>1100012101</td>\n",
       "      <td>2</td>\n",
       "      <td>331</td>\n",
       "      <td>33</td>\n",
       "      <td>06</td>\n",
       "      <td>22</td>\n",
       "      <td>5</td>\n",
       "      <td>42.0</td>\n",
       "      <td>05</td>\n",
       "      <td>...</td>\n",
       "      <td>950.0</td>\n",
       "      <td>4200.0</td>\n",
       "      <td>0.0</td>\n",
       "      <td>25150.0</td>\n",
       "      <td>0.037773</td>\n",
       "      <td>0.795229</td>\n",
       "      <td>0.000000</td>\n",
       "      <td>0.166998</td>\n",
       "      <td>60000.0</td>\n",
       "      <td>(40, 50]</td>\n",
       "    </tr>\n",
       "    <tr>\n",
       "      <th>3</th>\n",
       "      <td>3</td>\n",
       "      <td>1100012102</td>\n",
       "      <td>2</td>\n",
       "      <td>331</td>\n",
       "      <td>33</td>\n",
       "      <td>06</td>\n",
       "      <td>22</td>\n",
       "      <td>2</td>\n",
       "      <td>72.0</td>\n",
       "      <td>01</td>\n",
       "      <td>...</td>\n",
       "      <td>0.0</td>\n",
       "      <td>4200.0</td>\n",
       "      <td>100000.0</td>\n",
       "      <td>104200.0</td>\n",
       "      <td>0.000000</td>\n",
       "      <td>0.000000</td>\n",
       "      <td>0.959693</td>\n",
       "      <td>0.040307</td>\n",
       "      <td>0.0</td>\n",
       "      <td>(70, 80]</td>\n",
       "    </tr>\n",
       "    <tr>\n",
       "      <th>4</th>\n",
       "      <td>4</td>\n",
       "      <td>1100013101</td>\n",
       "      <td>2</td>\n",
       "      <td>331</td>\n",
       "      <td>33</td>\n",
       "      <td>06</td>\n",
       "      <td>22</td>\n",
       "      <td>3</td>\n",
       "      <td>27.0</td>\n",
       "      <td>05</td>\n",
       "      <td>...</td>\n",
       "      <td>3500.0</td>\n",
       "      <td>2000.0</td>\n",
       "      <td>92000.0</td>\n",
       "      <td>104247.0</td>\n",
       "      <td>0.033574</td>\n",
       "      <td>0.064721</td>\n",
       "      <td>0.882519</td>\n",
       "      <td>0.019185</td>\n",
       "      <td>18000.0</td>\n",
       "      <td>(20, 30]</td>\n",
       "    </tr>\n",
       "  </tbody>\n",
       "</table>\n",
       "<p>5 rows × 164 columns</p>\n",
       "</div>"
      ],
      "text/plain": [
       "   index        HHID Sector State_Region State District hh_type  hh_size  \\\n",
       "0      0  1100011101      2          331    33       06      21        4   \n",
       "1      1  1100011102      2          331    33       06      21        6   \n",
       "2      2  1100012101      2          331    33       06      22        5   \n",
       "3      3  1100012102      2          331    33       06      22        2   \n",
       "4      4  1100013101      2          331    33       06      22        3   \n",
       "\n",
       "    age edu    ...     durable_asset    gold  real_estate  total_asset  \\\n",
       "0  32.0  04    ...            1250.0  4300.0     185000.0     190550.0   \n",
       "1  49.0  06    ...            2400.0  9700.0     130000.0     185700.0   \n",
       "2  42.0  05    ...             950.0  4200.0          0.0      25150.0   \n",
       "3  72.0  01    ...               0.0  4200.0     100000.0     104200.0   \n",
       "4  27.0  05    ...            3500.0  2000.0      92000.0     104247.0   \n",
       "\n",
       "   durable_asset_total_wealth  financial_asset_total_wealth  \\\n",
       "0                    0.006560                      0.000000   \n",
       "1                    0.012924                      0.234787   \n",
       "2                    0.037773                      0.795229   \n",
       "3                    0.000000                      0.000000   \n",
       "4                    0.033574                      0.064721   \n",
       "\n",
       "   real_estate_total_wealth  gold_total_wealth  total_liability       AGE  \n",
       "0                  0.970874           0.022566              0.0  (30, 40]  \n",
       "1                  0.700054           0.052235         120000.0  (40, 50]  \n",
       "2                  0.000000           0.166998          60000.0  (40, 50]  \n",
       "3                  0.959693           0.040307              0.0  (70, 80]  \n",
       "4                  0.882519           0.019185          18000.0  (20, 30]  \n",
       "\n",
       "[5 rows x 164 columns]"
      ]
     },
     "execution_count": 29,
     "metadata": {},
     "output_type": "execute_result"
    }
   ],
   "source": [
    "new_data.head()"
   ]
  },
  {
   "cell_type": "code",
   "execution_count": 31,
   "metadata": {},
   "outputs": [],
   "source": [
    "groups = new_data.groupby(['AGE']).mean().reset_index()"
   ]
  },
  {
   "cell_type": "code",
   "execution_count": 32,
   "metadata": {},
   "outputs": [
    {
     "data": {
      "text/html": [
       "<div>\n",
       "<style scoped>\n",
       "    .dataframe tbody tr th:only-of-type {\n",
       "        vertical-align: middle;\n",
       "    }\n",
       "\n",
       "    .dataframe tbody tr th {\n",
       "        vertical-align: top;\n",
       "    }\n",
       "\n",
       "    .dataframe thead th {\n",
       "        text-align: right;\n",
       "    }\n",
       "</style>\n",
       "<table border=\"1\" class=\"dataframe\">\n",
       "  <thead>\n",
       "    <tr style=\"text-align: right;\">\n",
       "      <th></th>\n",
       "      <th>AGE</th>\n",
       "      <th>index</th>\n",
       "      <th>hh_size</th>\n",
       "      <th>age</th>\n",
       "      <th>ind_child</th>\n",
       "      <th>num_child</th>\n",
       "      <th>num_daughter</th>\n",
       "      <th>resi_l</th>\n",
       "      <th>agri_l</th>\n",
       "      <th>other_l</th>\n",
       "      <th>...</th>\n",
       "      <th>financial_asset</th>\n",
       "      <th>durable_asset</th>\n",
       "      <th>gold</th>\n",
       "      <th>real_estate</th>\n",
       "      <th>total_asset</th>\n",
       "      <th>durable_asset_total_wealth</th>\n",
       "      <th>financial_asset_total_wealth</th>\n",
       "      <th>real_estate_total_wealth</th>\n",
       "      <th>gold_total_wealth</th>\n",
       "      <th>total_liability</th>\n",
       "    </tr>\n",
       "  </thead>\n",
       "  <tbody>\n",
       "    <tr>\n",
       "      <th>0</th>\n",
       "      <td>(10, 20]</td>\n",
       "      <td>NaN</td>\n",
       "      <td>NaN</td>\n",
       "      <td>NaN</td>\n",
       "      <td>NaN</td>\n",
       "      <td>NaN</td>\n",
       "      <td>NaN</td>\n",
       "      <td>NaN</td>\n",
       "      <td>NaN</td>\n",
       "      <td>NaN</td>\n",
       "      <td>...</td>\n",
       "      <td>NaN</td>\n",
       "      <td>NaN</td>\n",
       "      <td>NaN</td>\n",
       "      <td>NaN</td>\n",
       "      <td>NaN</td>\n",
       "      <td>NaN</td>\n",
       "      <td>NaN</td>\n",
       "      <td>NaN</td>\n",
       "      <td>NaN</td>\n",
       "      <td>NaN</td>\n",
       "    </tr>\n",
       "    <tr>\n",
       "      <th>1</th>\n",
       "      <td>(20, 30]</td>\n",
       "      <td>75749.812803</td>\n",
       "      <td>3.941697</td>\n",
       "      <td>27.998894</td>\n",
       "      <td>0.789089</td>\n",
       "      <td>1.704122</td>\n",
       "      <td>0.803096</td>\n",
       "      <td>26766.908203</td>\n",
       "      <td>46734.464844</td>\n",
       "      <td>1954.678711</td>\n",
       "      <td>...</td>\n",
       "      <td>14813.467715</td>\n",
       "      <td>8187.040527</td>\n",
       "      <td>4975.984641</td>\n",
       "      <td>119699.312500</td>\n",
       "      <td>147675.808441</td>\n",
       "      <td>0.087678</td>\n",
       "      <td>0.118811</td>\n",
       "      <td>0.670166</td>\n",
       "      <td>0.123345</td>\n",
       "      <td>34231.578125</td>\n",
       "    </tr>\n",
       "    <tr>\n",
       "      <th>2</th>\n",
       "      <td>(30, 40]</td>\n",
       "      <td>72586.126678</td>\n",
       "      <td>4.909707</td>\n",
       "      <td>36.345235</td>\n",
       "      <td>0.916228</td>\n",
       "      <td>2.605615</td>\n",
       "      <td>1.226791</td>\n",
       "      <td>42122.421875</td>\n",
       "      <td>74043.820312</td>\n",
       "      <td>3537.618652</td>\n",
       "      <td>...</td>\n",
       "      <td>29570.427219</td>\n",
       "      <td>14425.372070</td>\n",
       "      <td>7269.279491</td>\n",
       "      <td>189788.515625</td>\n",
       "      <td>241053.590961</td>\n",
       "      <td>0.080361</td>\n",
       "      <td>0.132666</td>\n",
       "      <td>0.693639</td>\n",
       "      <td>0.093334</td>\n",
       "      <td>60836.082031</td>\n",
       "    </tr>\n",
       "    <tr>\n",
       "      <th>3</th>\n",
       "      <td>(40, 50]</td>\n",
       "      <td>69730.146976</td>\n",
       "      <td>5.200355</td>\n",
       "      <td>45.975154</td>\n",
       "      <td>0.800721</td>\n",
       "      <td>2.086005</td>\n",
       "      <td>0.988129</td>\n",
       "      <td>66625.890625</td>\n",
       "      <td>105567.835938</td>\n",
       "      <td>7169.999512</td>\n",
       "      <td>...</td>\n",
       "      <td>49701.944413</td>\n",
       "      <td>20753.580078</td>\n",
       "      <td>9554.669762</td>\n",
       "      <td>287555.906250</td>\n",
       "      <td>367566.093865</td>\n",
       "      <td>0.071650</td>\n",
       "      <td>0.142300</td>\n",
       "      <td>0.714344</td>\n",
       "      <td>0.071706</td>\n",
       "      <td>93100.148438</td>\n",
       "    </tr>\n",
       "    <tr>\n",
       "      <th>4</th>\n",
       "      <td>(50, 60]</td>\n",
       "      <td>70686.252905</td>\n",
       "      <td>5.410127</td>\n",
       "      <td>55.968691</td>\n",
       "      <td>0.624656</td>\n",
       "      <td>1.553053</td>\n",
       "      <td>0.746056</td>\n",
       "      <td>88732.601562</td>\n",
       "      <td>145000.062500</td>\n",
       "      <td>9680.150391</td>\n",
       "      <td>...</td>\n",
       "      <td>56842.005032</td>\n",
       "      <td>28237.968750</td>\n",
       "      <td>12237.373627</td>\n",
       "      <td>378745.531250</td>\n",
       "      <td>476062.871611</td>\n",
       "      <td>0.065223</td>\n",
       "      <td>0.122820</td>\n",
       "      <td>0.748249</td>\n",
       "      <td>0.063708</td>\n",
       "      <td>97711.710938</td>\n",
       "    </tr>\n",
       "  </tbody>\n",
       "</table>\n",
       "<p>5 rows × 155 columns</p>\n",
       "</div>"
      ],
      "text/plain": [
       "        AGE         index   hh_size        age  ind_child  num_child  \\\n",
       "0  (10, 20]           NaN       NaN        NaN        NaN        NaN   \n",
       "1  (20, 30]  75749.812803  3.941697  27.998894   0.789089   1.704122   \n",
       "2  (30, 40]  72586.126678  4.909707  36.345235   0.916228   2.605615   \n",
       "3  (40, 50]  69730.146976  5.200355  45.975154   0.800721   2.086005   \n",
       "4  (50, 60]  70686.252905  5.410127  55.968691   0.624656   1.553053   \n",
       "\n",
       "   num_daughter        resi_l         agri_l      other_l       ...         \\\n",
       "0           NaN           NaN            NaN          NaN       ...          \n",
       "1      0.803096  26766.908203   46734.464844  1954.678711       ...          \n",
       "2      1.226791  42122.421875   74043.820312  3537.618652       ...          \n",
       "3      0.988129  66625.890625  105567.835938  7169.999512       ...          \n",
       "4      0.746056  88732.601562  145000.062500  9680.150391       ...          \n",
       "\n",
       "   financial_asset  durable_asset          gold    real_estate    total_asset  \\\n",
       "0              NaN            NaN           NaN            NaN            NaN   \n",
       "1     14813.467715    8187.040527   4975.984641  119699.312500  147675.808441   \n",
       "2     29570.427219   14425.372070   7269.279491  189788.515625  241053.590961   \n",
       "3     49701.944413   20753.580078   9554.669762  287555.906250  367566.093865   \n",
       "4     56842.005032   28237.968750  12237.373627  378745.531250  476062.871611   \n",
       "\n",
       "   durable_asset_total_wealth  financial_asset_total_wealth  \\\n",
       "0                         NaN                           NaN   \n",
       "1                    0.087678                      0.118811   \n",
       "2                    0.080361                      0.132666   \n",
       "3                    0.071650                      0.142300   \n",
       "4                    0.065223                      0.122820   \n",
       "\n",
       "   real_estate_total_wealth  gold_total_wealth  total_liability  \n",
       "0                       NaN                NaN              NaN  \n",
       "1                  0.670166           0.123345     34231.578125  \n",
       "2                  0.693639           0.093334     60836.082031  \n",
       "3                  0.714344           0.071706     93100.148438  \n",
       "4                  0.748249           0.063708     97711.710938  \n",
       "\n",
       "[5 rows x 155 columns]"
      ]
     },
     "execution_count": 32,
     "metadata": {},
     "output_type": "execute_result"
    }
   ],
   "source": [
    "groups.head()"
   ]
  },
  {
   "cell_type": "code",
   "execution_count": 33,
   "metadata": {},
   "outputs": [],
   "source": [
    "import seaborn as sns"
   ]
  },
  {
   "cell_type": "code",
   "execution_count": 34,
   "metadata": {},
   "outputs": [],
   "source": [
    "##Balance sheet allocation of household assets"
   ]
  },
  {
   "cell_type": "code",
   "execution_count": 35,
   "metadata": {},
   "outputs": [
    {
     "data": {
      "text/plain": [
       "<matplotlib.axes._subplots.AxesSubplot at 0x1e43d4f8fd0>"
      ]
     },
     "execution_count": 35,
     "metadata": {},
     "output_type": "execute_result"
    },
    {
     "data": {
      "image/png": "[encoded data removed]",
      "text/plain": [
       "<Figure size 432x288 with 1 Axes>"
      ]
     },
     "metadata": {
      "needs_background": "light"
     },
     "output_type": "display_data"
    }
   ],
   "source": [
    "sns.barplot(x='AGE',y='durable_asset_total_wealth',data=groups)\n"
   ]
  },
  {
   "cell_type": "code",
   "execution_count": 36,
   "metadata": {},
   "outputs": [
    {
     "data": {
      "text/plain": [
       "<matplotlib.axes._subplots.AxesSubplot at 0x1e43d602898>"
      ]
     },
     "execution_count": 36,
     "metadata": {},
     "output_type": "execute_result"
    },
    {
     "data": {
      "image/png": "[encoded data removed]",
      "text/plain": [
       "<Figure size 432x288 with 1 Axes>"
      ]
     },
     "metadata": {
      "needs_background": "light"
     },
     "output_type": "display_data"
    }
   ],
   "source": [
    "sns.barplot(x='AGE',y='real_estate_total_wealth',data=groups)"
   ]
  },
  {
   "cell_type": "code",
   "execution_count": 37,
   "metadata": {},
   "outputs": [
    {
     "data": {
      "text/plain": [
       "<matplotlib.axes._subplots.AxesSubplot at 0x1e43d6b7b38>"
      ]
     },
     "execution_count": 37,
     "metadata": {},
     "output_type": "execute_result"
    },
    {
     "data": {
      "image/png": "[encoded data removed]",
      "text/plain": [
       "<Figure size 432x288 with 1 Axes>"
      ]
     },
     "metadata": {
      "needs_background": "light"
     },
     "output_type": "display_data"
    }
   ],
   "source": [
    "sns.barplot(x='AGE',y='financial_asset_total_wealth',data=groups)"
   ]
  },
  {
   "cell_type": "code",
   "execution_count": 38,
   "metadata": {},
   "outputs": [
    {
     "data": {
      "text/plain": [
       "<matplotlib.axes._subplots.AxesSubplot at 0x1e43d768c88>"
      ]
     },
     "execution_count": 38,
     "metadata": {},
     "output_type": "execute_result"
    },
    {
     "data": {
      "image/png": "[encoded data removed]",
      "text/plain": [
       "<Figure size 432x288 with 1 Axes>"
      ]
     },
     "metadata": {
      "needs_background": "light"
     },
     "output_type": "display_data"
    }
   ],
   "source": [
    "sns.barplot(x='AGE',y='gold_total_wealth',data=groups)"
   ]
  },
  {
   "cell_type": "code",
   "execution_count": 39,
   "metadata": {},
   "outputs": [],
   "source": [
    "##Participation in financial markets along the life cycle"
   ]
  },
  {
   "cell_type": "code",
   "execution_count": 40,
   "metadata": {},
   "outputs": [],
   "source": [
    "new_group = new_data.groupby(['AGE']).sum().reset_index()"
   ]
  },
  {
   "cell_type": "code",
   "execution_count": 42,
   "metadata": {},
   "outputs": [
    {
     "data": {
      "text/plain": [
       "<matplotlib.axes._subplots.AxesSubplot at 0x1e43d931550>"
      ]
     },
     "execution_count": 42,
     "metadata": {},
     "output_type": "execute_result"
    },
    {
     "data": {
      "image/png": "[encoded data removed]",
      "text/plain": [
       "<Figure size 432x288 with 1 Axes>"
      ]
     },
     "metadata": {
      "needs_background": "light"
     },
     "output_type": "display_data"
    }
   ],
   "source": [
    "sns.barplot(x='AGE',y='durable_asset',data=new_group)"
   ]
  },
  {
   "cell_type": "code",
   "execution_count": 43,
   "metadata": {},
   "outputs": [
    {
     "data": {
      "text/plain": [
       "<matplotlib.axes._subplots.AxesSubplot at 0x1e43da470b8>"
      ]
     },
     "execution_count": 43,
     "metadata": {},
     "output_type": "execute_result"
    },
    {
     "data": {
      "image/png": "[encoded data removed]",
      "text/plain": [
       "<Figure size 432x288 with 1 Axes>"
      ]
     },
     "metadata": {
      "needs_background": "light"
     },
     "output_type": "display_data"
    }
   ],
   "source": [
    "sns.barplot(x='AGE',y='financial_asset',data=new_group)"
   ]
  },
  {
   "cell_type": "code",
   "execution_count": 44,
   "metadata": {},
   "outputs": [
    {
     "data": {
      "text/plain": [
       "<matplotlib.axes._subplots.AxesSubplot at 0x1e43dacf3c8>"
      ]
     },
     "execution_count": 44,
     "metadata": {},
     "output_type": "execute_result"
    },
    {
     "data": {
      "image/png": "[encoded data removed]",
      "text/plain": [
       "<Figure size 432x288 with 1 Axes>"
      ]
     },
     "metadata": {
      "needs_background": "light"
     },
     "output_type": "display_data"
    }
   ],
   "source": [
    "sns.barplot(x='AGE',y='real_estate',data=new_group)"
   ]
  },
  {
   "cell_type": "code",
   "execution_count": 45,
   "metadata": {},
   "outputs": [
    {
     "data": {
      "text/plain": [
       "<matplotlib.axes._subplots.AxesSubplot at 0x1e43db5a9e8>"
      ]
     },
     "execution_count": 45,
     "metadata": {},
     "output_type": "execute_result"
    },
    {
     "data": {
      "image/png": "[encoded data removed]",
      "text/plain": [
       "<Figure size 432x288 with 1 Axes>"
      ]
     },
     "metadata": {
      "needs_background": "light"
     },
     "output_type": "display_data"
    }
   ],
   "source": [
    "sns.barplot(x='AGE',y='gold',data=new_group)"
   ]
  },
  {
   "cell_type": "code",
   "execution_count": 46,
   "metadata": {},
   "outputs": [
    {
     "data": {
      "text/plain": [
       "<matplotlib.axes._subplots.AxesSubplot at 0x1e441e22588>"
      ]
     },
     "execution_count": 46,
     "metadata": {},
     "output_type": "execute_result"
    },
    {
     "data": {
      "image/png": "[encoded data removed]",
      "text/plain": [
       "<Figure size 432x288 with 1 Axes>"
      ]
     },
     "metadata": {
      "needs_background": "light"
     },
     "output_type": "display_data"
    }
   ],
   "source": [
    "sns.barplot(x='AGE',y='gold_loan',data=new_group)"
   ]
  },
  {
   "cell_type": "code",
   "execution_count": 47,
   "metadata": {
    "scrolled": true
   },
   "outputs": [
    {
     "data": {
      "text/plain": [
       "<matplotlib.axes._subplots.AxesSubplot at 0x1e441eb5550>"
      ]
     },
     "execution_count": 47,
     "metadata": {},
     "output_type": "execute_result"
    },
    {
     "data": {
      "image/png": "[encoded data removed]",
      "text/plain": [
       "<Figure size 432x288 with 1 Axes>"
      ]
     },
     "metadata": {
      "needs_background": "light"
     },
     "output_type": "display_data"
    }
   ],
   "source": [
    "sns.barplot(x='AGE',y='mortgage_debt',data=new_group)"
   ]
  },
  {
   "cell_type": "code",
   "execution_count": 48,
   "metadata": {},
   "outputs": [
    {
     "data": {
      "text/plain": [
       "<matplotlib.axes._subplots.AxesSubplot at 0x1e441f1f278>"
      ]
     },
     "execution_count": 48,
     "metadata": {},
     "output_type": "execute_result"
    },
    {
     "data": {
      "image/png": "[encoded data removed]",
      "text/plain": [
       "<Figure size 432x288 with 1 Axes>"
      ]
     },
     "metadata": {
      "needs_background": "light"
     },
     "output_type": "display_data"
    }
   ],
   "source": [
    "sns.barplot(x='AGE',y='unsecured_loan',data=new_group)"
   ]
  },
  {
   "cell_type": "code",
   "execution_count": 49,
   "metadata": {},
   "outputs": [
    {
     "data": {
      "text/plain": [
       "<matplotlib.axes._subplots.AxesSubplot at 0x1e441fc06d8>"
      ]
     },
     "execution_count": 49,
     "metadata": {},
     "output_type": "execute_result"
    },
    {
     "data": {
      "image/png": "[encoded data removed]",
      "text/plain": [
       "<Figure size 432x288 with 1 Axes>"
      ]
     },
     "metadata": {
      "needs_background": "light"
     },
     "output_type": "display_data"
    }
   ],
   "source": [
    "sns.barplot(x='AGE',y='other_debt',data=new_group)"
   ]
  },
  {
   "cell_type": "code",
   "execution_count": 50,
   "metadata": {},
   "outputs": [
    {
     "data": {
      "text/plain": [
       "<matplotlib.axes._subplots.AxesSubplot at 0x1e442048eb8>"
      ]
     },
     "execution_count": 50,
     "metadata": {},
     "output_type": "execute_result"
    },
    {
     "data": {
      "image/png": "[encoded data removed]",
      "text/plain": [
       "<Figure size 432x288 with 1 Axes>"
      ]
     },
     "metadata": {
      "needs_background": "light"
     },
     "output_type": "display_data"
    }
   ],
   "source": [
    "sns.barplot(x='AGE',y='secured_loan',data=new_group)"
   ]
  },
  {
   "cell_type": "code",
   "execution_count": 51,
   "metadata": {},
   "outputs": [],
   "source": [
    "data['participation']=data['financial_asset']+data['other_debt']"
   ]
  },
  {
   "cell_type": "code",
   "execution_count": 52,
   "metadata": {},
   "outputs": [],
   "source": [
    "data['participation']=data['participation'].apply(lambda x: 1 if x>0 else 0)"
   ]
  },
  {
   "cell_type": "code",
   "execution_count": 53,
   "metadata": {},
   "outputs": [
    {
     "data": {
      "text/html": [
       "<div>\n",
       "<style scoped>\n",
       "    .dataframe tbody tr th:only-of-type {\n",
       "        vertical-align: middle;\n",
       "    }\n",
       "\n",
       "    .dataframe tbody tr th {\n",
       "        vertical-align: top;\n",
       "    }\n",
       "\n",
       "    .dataframe thead th {\n",
       "        text-align: right;\n",
       "    }\n",
       "</style>\n",
       "<table border=\"1\" class=\"dataframe\">\n",
       "  <thead>\n",
       "    <tr style=\"text-align: right;\">\n",
       "      <th></th>\n",
       "      <th>HHID</th>\n",
       "      <th>Sector</th>\n",
       "      <th>State_Region</th>\n",
       "      <th>State</th>\n",
       "      <th>District</th>\n",
       "      <th>hh_type</th>\n",
       "      <th>hh_size</th>\n",
       "      <th>age</th>\n",
       "      <th>edu</th>\n",
       "      <th>ind_child</th>\n",
       "      <th>...</th>\n",
       "      <th>gold</th>\n",
       "      <th>real_estate</th>\n",
       "      <th>total_asset</th>\n",
       "      <th>durable_asset_total_wealth</th>\n",
       "      <th>financial_asset_total_wealth</th>\n",
       "      <th>real_estate_total_wealth</th>\n",
       "      <th>gold_total_wealth</th>\n",
       "      <th>total_liability</th>\n",
       "      <th>AGE</th>\n",
       "      <th>participation</th>\n",
       "    </tr>\n",
       "  </thead>\n",
       "  <tbody>\n",
       "    <tr>\n",
       "      <th>0</th>\n",
       "      <td>1100011101</td>\n",
       "      <td>2</td>\n",
       "      <td>331</td>\n",
       "      <td>33</td>\n",
       "      <td>06</td>\n",
       "      <td>21</td>\n",
       "      <td>4</td>\n",
       "      <td>32.0</td>\n",
       "      <td>04</td>\n",
       "      <td>1.0</td>\n",
       "      <td>...</td>\n",
       "      <td>4300.0</td>\n",
       "      <td>185000.0</td>\n",
       "      <td>190550.0</td>\n",
       "      <td>0.006560</td>\n",
       "      <td>0.000000</td>\n",
       "      <td>0.970874</td>\n",
       "      <td>0.022566</td>\n",
       "      <td>0.0</td>\n",
       "      <td>(30, 40]</td>\n",
       "      <td>0</td>\n",
       "    </tr>\n",
       "    <tr>\n",
       "      <th>1</th>\n",
       "      <td>1100011102</td>\n",
       "      <td>2</td>\n",
       "      <td>331</td>\n",
       "      <td>33</td>\n",
       "      <td>06</td>\n",
       "      <td>21</td>\n",
       "      <td>6</td>\n",
       "      <td>49.0</td>\n",
       "      <td>06</td>\n",
       "      <td>1.0</td>\n",
       "      <td>...</td>\n",
       "      <td>9700.0</td>\n",
       "      <td>130000.0</td>\n",
       "      <td>185700.0</td>\n",
       "      <td>0.012924</td>\n",
       "      <td>0.234787</td>\n",
       "      <td>0.700054</td>\n",
       "      <td>0.052235</td>\n",
       "      <td>120000.0</td>\n",
       "      <td>(40, 50]</td>\n",
       "      <td>1</td>\n",
       "    </tr>\n",
       "    <tr>\n",
       "      <th>2</th>\n",
       "      <td>1100012101</td>\n",
       "      <td>2</td>\n",
       "      <td>331</td>\n",
       "      <td>33</td>\n",
       "      <td>06</td>\n",
       "      <td>22</td>\n",
       "      <td>5</td>\n",
       "      <td>42.0</td>\n",
       "      <td>05</td>\n",
       "      <td>1.0</td>\n",
       "      <td>...</td>\n",
       "      <td>4200.0</td>\n",
       "      <td>0.0</td>\n",
       "      <td>25150.0</td>\n",
       "      <td>0.037773</td>\n",
       "      <td>0.795229</td>\n",
       "      <td>0.000000</td>\n",
       "      <td>0.166998</td>\n",
       "      <td>60000.0</td>\n",
       "      <td>(40, 50]</td>\n",
       "      <td>1</td>\n",
       "    </tr>\n",
       "    <tr>\n",
       "      <th>3</th>\n",
       "      <td>1100012102</td>\n",
       "      <td>2</td>\n",
       "      <td>331</td>\n",
       "      <td>33</td>\n",
       "      <td>06</td>\n",
       "      <td>22</td>\n",
       "      <td>2</td>\n",
       "      <td>72.0</td>\n",
       "      <td>01</td>\n",
       "      <td>0.0</td>\n",
       "      <td>...</td>\n",
       "      <td>4200.0</td>\n",
       "      <td>100000.0</td>\n",
       "      <td>104200.0</td>\n",
       "      <td>0.000000</td>\n",
       "      <td>0.000000</td>\n",
       "      <td>0.959693</td>\n",
       "      <td>0.040307</td>\n",
       "      <td>0.0</td>\n",
       "      <td>(70, 80]</td>\n",
       "      <td>0</td>\n",
       "    </tr>\n",
       "    <tr>\n",
       "      <th>4</th>\n",
       "      <td>1100013101</td>\n",
       "      <td>2</td>\n",
       "      <td>331</td>\n",
       "      <td>33</td>\n",
       "      <td>06</td>\n",
       "      <td>22</td>\n",
       "      <td>3</td>\n",
       "      <td>27.0</td>\n",
       "      <td>05</td>\n",
       "      <td>1.0</td>\n",
       "      <td>...</td>\n",
       "      <td>2000.0</td>\n",
       "      <td>92000.0</td>\n",
       "      <td>104247.0</td>\n",
       "      <td>0.033574</td>\n",
       "      <td>0.064721</td>\n",
       "      <td>0.882519</td>\n",
       "      <td>0.019185</td>\n",
       "      <td>18000.0</td>\n",
       "      <td>(20, 30]</td>\n",
       "      <td>1</td>\n",
       "    </tr>\n",
       "  </tbody>\n",
       "</table>\n",
       "<p>5 rows × 164 columns</p>\n",
       "</div>"
      ],
      "text/plain": [
       "         HHID Sector State_Region State District hh_type  hh_size   age edu  \\\n",
       "0  1100011101      2          331    33       06      21        4  32.0  04   \n",
       "1  1100011102      2          331    33       06      21        6  49.0  06   \n",
       "2  1100012101      2          331    33       06      22        5  42.0  05   \n",
       "3  1100012102      2          331    33       06      22        2  72.0  01   \n",
       "4  1100013101      2          331    33       06      22        3  27.0  05   \n",
       "\n",
       "   ind_child      ...          gold  real_estate  total_asset  \\\n",
       "0        1.0      ...        4300.0     185000.0     190550.0   \n",
       "1        1.0      ...        9700.0     130000.0     185700.0   \n",
       "2        1.0      ...        4200.0          0.0      25150.0   \n",
       "3        0.0      ...        4200.0     100000.0     104200.0   \n",
       "4        1.0      ...        2000.0      92000.0     104247.0   \n",
       "\n",
       "   durable_asset_total_wealth  financial_asset_total_wealth  \\\n",
       "0                    0.006560                      0.000000   \n",
       "1                    0.012924                      0.234787   \n",
       "2                    0.037773                      0.795229   \n",
       "3                    0.000000                      0.000000   \n",
       "4                    0.033574                      0.064721   \n",
       "\n",
       "   real_estate_total_wealth  gold_total_wealth  total_liability       AGE  \\\n",
       "0                  0.970874           0.022566              0.0  (30, 40]   \n",
       "1                  0.700054           0.052235         120000.0  (40, 50]   \n",
       "2                  0.000000           0.166998          60000.0  (40, 50]   \n",
       "3                  0.959693           0.040307              0.0  (70, 80]   \n",
       "4                  0.882519           0.019185          18000.0  (20, 30]   \n",
       "\n",
       "   participation  \n",
       "0              0  \n",
       "1              1  \n",
       "2              1  \n",
       "3              0  \n",
       "4              1  \n",
       "\n",
       "[5 rows x 164 columns]"
      ]
     },
     "execution_count": 53,
     "metadata": {},
     "output_type": "execute_result"
    }
   ],
   "source": [
    "data.head()"
   ]
  },
  {
   "cell_type": "code",
   "execution_count": 54,
   "metadata": {},
   "outputs": [],
   "source": [
    "selected_cols=['hh_size','age','ind_child','edu','num_child','num_daughter','participation']"
   ]
  },
  {
   "cell_type": "code",
   "execution_count": 55,
   "metadata": {},
   "outputs": [],
   "source": [
    "new_data_2=data[selected_cols]"
   ]
  },
  {
   "cell_type": "code",
   "execution_count": 56,
   "metadata": {},
   "outputs": [
    {
     "name": "stderr",
     "output_type": "stream",
     "text": [
      "C:\\Users\\Sumit Ranjan\\Anaconda3\\lib\\site-packages\\pandas\\core\\generic.py:5434: SettingWithCopyWarning: \n",
      "A value is trying to be set on a copy of a slice from a DataFrame\n",
      "\n",
      "See the caveats in the documentation: http://pandas.pydata.org/pandas-docs/stable/indexing.html#indexing-view-versus-copy\n",
      "  self._update_inplace(new_data)\n"
     ]
    }
   ],
   "source": [
    "cols=['hh_size','age','ind_child','num_child','num_daughter']\n",
    "for col in cols:\n",
    "    new_data_2[col].fillna(0, inplace=True)"
   ]
  },
  {
   "cell_type": "code",
   "execution_count": 57,
   "metadata": {},
   "outputs": [],
   "source": [
    "target_variable=new_data_2['participation']"
   ]
  },
  {
   "cell_type": "code",
   "execution_count": 58,
   "metadata": {},
   "outputs": [
    {
     "name": "stderr",
     "output_type": "stream",
     "text": [
      "C:\\Users\\Sumit Ranjan\\Anaconda3\\lib\\site-packages\\pandas\\core\\frame.py:3697: SettingWithCopyWarning: \n",
      "A value is trying to be set on a copy of a slice from a DataFrame\n",
      "\n",
      "See the caveats in the documentation: http://pandas.pydata.org/pandas-docs/stable/indexing.html#indexing-view-versus-copy\n",
      "  errors=errors)\n"
     ]
    }
   ],
   "source": [
    "x=new_data_2.drop('participation',axis=1,inplace=True)\n"
   ]
  },
  {
   "cell_type": "code",
   "execution_count": 59,
   "metadata": {},
   "outputs": [],
   "source": [
    "x=new_data_2.apply(pd.to_numeric, errors='ignore')"
   ]
  },
  {
   "cell_type": "markdown",
   "metadata": {},
   "source": [
    "# Splitting the data as train and test"
   ]
  },
  {
   "cell_type": "code",
   "execution_count": 61,
   "metadata": {},
   "outputs": [
    {
     "data": {
      "text/plain": [
       "(42986, 6)"
      ]
     },
     "execution_count": 61,
     "metadata": {},
     "output_type": "execute_result"
    }
   ],
   "source": [
    "from sklearn.model_selection import train_test_split\n",
    "X_train,X_test,y_train,y_test = train_test_split(x,target_variable,test_size=.30,random_state=1) \n",
    "X_train.shape\n",
    "X_test.shape"
   ]
  },
  {
   "cell_type": "code",
   "execution_count": 62,
   "metadata": {},
   "outputs": [
    {
     "name": "stdout",
     "output_type": "stream",
     "text": [
      "Accuracy: 64.09%\n"
     ]
    }
   ],
   "source": [
    "#import XGBoost classifier and accuracy\n",
    "\n",
    "from xgboost import XGBClassifier\n",
    "\n",
    "from sklearn.metrics import accuracy_score\n",
    "\n",
    "\n",
    "\n",
    "#instantiate model and train\n",
    "\n",
    "model = XGBClassifier(learning_rate = 0.05, n_estimators=300, max_depth=5)\n",
    "\n",
    "model.fit(X_train, y_train)\n",
    "\n",
    "\n",
    "\n",
    "# make predictions for test set\n",
    "\n",
    "y_pred = model.predict(X_test)\n",
    "\n",
    "predictions = [round(value) for value in y_pred]\n",
    "\n",
    "\n",
    "\n",
    "accuracy = accuracy_score(y_test, predictions)\n",
    "\n",
    "print(\"Accuracy: %.2f%%\" % (accuracy * 100.0))"
   ]
  },
  {
   "cell_type": "markdown",
   "metadata": {},
   "source": [
    "# Important feature"
   ]
  },
  {
   "cell_type": "code",
   "execution_count": 66,
   "metadata": {},
   "outputs": [
    {
     "data": {
      "image/png": "[encoded data removed]",
      "text/plain": [
       "<Figure size 432x288 with 1 Axes>"
      ]
     },
     "metadata": {
      "needs_background": "light"
     },
     "output_type": "display_data"
    }
   ],
   "source": [
    "from xgboost import plot_importance\n",
    "\n",
    "import matplotlib.pyplot as plt\n",
    "\n",
    "\n",
    "\n",
    "# plot feature importance\n",
    "\n",
    "plot_importance(model)\n",
    "\n",
    "plt.show()"
   ]
  },
  {
   "cell_type": "code",
   "execution_count": null,
   "metadata": {},
   "outputs": [],
   "source": []
  }
 ],
 "metadata": {
  "kernelspec": {
   "display_name": "Python 3",
   "language": "python",
   "name": "python3"
  },
  "language_info": {
   "codemirror_mode": {
    "name": "ipython",
    "version": 3
   },
   "file_extension": ".py",
   "mimetype": "text/x-python",
   "name": "python",
   "nbconvert_exporter": "python",
   "pygments_lexer": "ipython3",
   "version": "3.7.1"
  }
 },
 "nbformat": 4,
 "nbformat_minor": 2
}
